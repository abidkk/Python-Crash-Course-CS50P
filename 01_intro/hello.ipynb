{
 "cells": [
  {
   "cell_type": "markdown",
   "metadata": {},
   "source": [
    "# Hello world"
   ]
  },
  {
   "cell_type": "code",
   "execution_count": 1,
   "metadata": {},
   "outputs": [
    {
     "name": "stdout",
     "output_type": "stream",
     "text": [
      "Hello World\n"
     ]
    }
   ],
   "source": [
    "print(\"Hello World\")"
   ]
  },
  {
   "cell_type": "markdown",
   "metadata": {},
   "source": [
    "# Getting User Input \n",
    "\n",
    "- variable & Print function"
   ]
  },
  {
   "cell_type": "code",
   "execution_count": 2,
   "metadata": {},
   "outputs": [
    {
     "name": "stdout",
     "output_type": "stream",
     "text": [
      "Hello,  Abid Khokhar\n",
      "Welcome, Abid Khokhar\n"
     ]
    }
   ],
   "source": [
    "user = input(\"Please enter your name\")\n",
    "print('Hello, ', user)\n",
    "print('Welcome, '+ user)"
   ]
  },
  {
   "cell_type": "markdown",
   "metadata": {},
   "source": [
    "# sep : define custom seperator"
   ]
  },
  {
   "cell_type": "code",
   "execution_count": 7,
   "metadata": {},
   "outputs": [
    {
     "name": "stdout",
     "output_type": "stream",
     "text": [
      "Abid__Khokhar\n"
     ]
    }
   ],
   "source": [
    "fName = input('Enter first name')\n",
    "lName = input('enter last name')\n",
    "print(fName, lName, sep=\"__\")\n",
    "\n",
    "# you can see the first and last name are seperated by underscore _"
   ]
  },
  {
   "cell_type": "markdown",
   "metadata": {},
   "source": [
    "# end : "
   ]
  },
  {
   "cell_type": "code",
   "execution_count": 24,
   "metadata": {},
   "outputs": [
    {
     "name": "stdout",
     "output_type": "stream",
     "text": [
      "Abid\n",
      "Khokhar\n",
      "Abid Khokhar\n",
      "Abid__Khokhar\n"
     ]
    }
   ],
   "source": [
    "fName = input('Enter first name')\n",
    "lName = input('enter last name')\n",
    "\n",
    "# without end\n",
    "print(fName)\n",
    "print(lName)\n",
    "\n",
    "# with end : you can see both are printed in same line\n",
    "print(fName , end=\" \")\n",
    "print(lName)\n",
    "\n",
    "# with end : you can see both are printed in same line with seperated by underscore\n",
    "print(fName , end=\"__\")\n",
    "print(lName)\n",
    "\n"
   ]
  },
  {
   "cell_type": "markdown",
   "metadata": {},
   "source": [
    "# Summay\n",
    "\n",
    "- variable\n",
    "- user input\n",
    "- Python built-in function : print()\n",
    "- sep & end keyword"
   ]
  }
 ],
 "metadata": {
  "kernelspec": {
   "display_name": "base",
   "language": "python",
   "name": "python3"
  },
  "language_info": {
   "codemirror_mode": {
    "name": "ipython",
    "version": 3
   },
   "file_extension": ".py",
   "mimetype": "text/x-python",
   "name": "python",
   "nbconvert_exporter": "python",
   "pygments_lexer": "ipython3",
   "version": "3.12.4"
  }
 },
 "nbformat": 4,
 "nbformat_minor": 2
}
