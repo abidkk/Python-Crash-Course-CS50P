{
 "cells": [
  {
   "cell_type": "markdown",
   "metadata": {},
   "source": [
    "# int : integer Data Type\n",
    "\n",
    "- In Python, the int data type represents integer values, which are whole numbers without any fractional or decimal parts. "
   ]
  },
  {
   "cell_type": "markdown",
   "metadata": {},
   "source": []
  },
  {
   "cell_type": "code",
   "execution_count": 3,
   "metadata": {},
   "outputs": [
    {
     "name": "stdout",
     "output_type": "stream",
     "text": [
      "10\n",
      "20\n",
      "<class 'int'>\n",
      "<class 'int'>\n",
      "30\n"
     ]
    }
   ],
   "source": [
    "num1 = 10\n",
    "num2 = 20\n",
    "\n",
    "print(num1)\n",
    "print(num2)\n",
    "\n",
    "# Type checking\n",
    "\n",
    "print(type(num1))\n",
    "print(type(num2))\n",
    "\n",
    "\n",
    "# Adding \n",
    "print(num1 + num2)"
   ]
  },
  {
   "cell_type": "markdown",
   "metadata": {},
   "source": [
    "- Getting user input\n",
    "\n",
    "Note : by default the number passed in input are string Data type like '10' and '20'"
   ]
  },
  {
   "cell_type": "code",
   "execution_count": 9,
   "metadata": {},
   "outputs": [
    {
     "name": "stdout",
     "output_type": "stream",
     "text": [
      "1020\n",
      "30\n",
      "30\n"
     ]
    }
   ],
   "source": [
    "x = input('first number')\n",
    "y = input('second number')\n",
    "\n",
    "# Adding\n",
    "print( x + y) # output 1020 : because it is concating by\n",
    "\n",
    "\n",
    "# Converting to int\n",
    "print(int(x)+int(y)) # 30\n",
    "\n",
    "\n",
    "# converting to int send method\n",
    "a = int(input('first value'))\n",
    "b = int(input('second value'))\n",
    "print(a + b)  # 30"
   ]
  },
  {
   "cell_type": "markdown",
   "metadata": {},
   "source": [
    "2 int.to_bytes(length, byteorder)\n",
    "\n",
    "- Converts the integer to a byte array of a specified length and byte order.\n",
    "- length: Number of bytes required.\n",
    "- byteorder: Byte order ('big' for big-endian, 'little' for little-endian)."
   ]
  },
  {
   "cell_type": "code",
   "execution_count": 18,
   "metadata": {},
   "outputs": [
    {
     "name": "stdout",
     "output_type": "stream",
     "text": [
      "b'\\x00\\n'\n",
      "b'\\x00\\x00\\x00\\n'\n",
      "\n",
      "b'\\n\\x00'\n",
      "b'\\n\\x00\\x00\\x00'\n"
     ]
    }
   ],
   "source": [
    "x = 10\n",
    "print(x.to_bytes(2, 'big'))\n",
    "print(x.to_bytes(4, 'big'))\n",
    "\n",
    "print()\n",
    "\n",
    "print(x.to_bytes(2, 'little'))\n",
    "print(x.to_bytes(4, 'little'))\n"
   ]
  },
  {
   "cell_type": "markdown",
   "metadata": {},
   "source": [
    "2. Absolute Value: abs()"
   ]
  },
  {
   "cell_type": "code",
   "execution_count": 20,
   "metadata": {},
   "outputs": [
    {
     "name": "stdout",
     "output_type": "stream",
     "text": [
      "-10\n",
      "10\n"
     ]
    }
   ],
   "source": [
    "num = -10\n",
    "print(num)\n",
    "print(abs(num))"
   ]
  },
  {
   "cell_type": "markdown",
   "metadata": {},
   "source": [
    "3. Integet to String"
   ]
  },
  {
   "cell_type": "code",
   "execution_count": 25,
   "metadata": {},
   "outputs": [
    {
     "name": "stdout",
     "output_type": "stream",
     "text": [
      "100\n",
      "<class 'int'>\n",
      "\n",
      "100\n",
      "<class 'str'>\n"
     ]
    }
   ],
   "source": [
    "val = 100\n",
    "\n",
    "print(val)\n",
    "print(type(val))\n",
    "\n",
    "print()\n",
    "\n",
    "# Converting to string\n",
    "val2 = str(val)\n",
    "\n",
    "print(val2)\n",
    "print(type(val2)) # str\n"
   ]
  },
  {
   "cell_type": "code",
   "execution_count": null,
   "metadata": {},
   "outputs": [],
   "source": []
  }
 ],
 "metadata": {
  "kernelspec": {
   "display_name": "base",
   "language": "python",
   "name": "python3"
  },
  "language_info": {
   "codemirror_mode": {
    "name": "ipython",
    "version": 3
   },
   "file_extension": ".py",
   "mimetype": "text/x-python",
   "name": "python",
   "nbconvert_exporter": "python",
   "pygments_lexer": "ipython3",
   "version": "3.12.4"
  }
 },
 "nbformat": 4,
 "nbformat_minor": 2
}
