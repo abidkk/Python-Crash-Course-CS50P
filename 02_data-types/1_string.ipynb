{
 "cells": [
  {
   "cell_type": "markdown",
   "metadata": {},
   "source": [
    "# String : \n",
    "- Any character , number or symbol in quote is called string."
   ]
  },
  {
   "cell_type": "code",
   "execution_count": 3,
   "metadata": {},
   "outputs": [
    {
     "name": "stdout",
     "output_type": "stream",
     "text": [
      "Abid Karachi CS1001\n"
     ]
    }
   ],
   "source": [
    "roll = \"CS1001\"\n",
    "name = \"Abid\"\n",
    "city = 'Karachi'\n",
    "\n",
    "print(name, city, roll)"
   ]
  },
  {
   "cell_type": "markdown",
   "metadata": {},
   "source": [
    "# F-String"
   ]
  },
  {
   "cell_type": "code",
   "execution_count": 13,
   "metadata": {},
   "outputs": [
    {
     "name": "stdout",
     "output_type": "stream",
     "text": [
      "Student Name: Abid Khokhar, Age 20 years and Country: Pakistan\n"
     ]
    }
   ],
   "source": [
    "name = \"Abid Khokhar\"\n",
    "age = 20\n",
    "country = \"Pakistan\"\n",
    "\n",
    "print(f\"Student Name: {name}, Age {age} years and Country: {country}\")"
   ]
  },
  {
   "cell_type": "markdown",
   "metadata": {},
   "source": [
    "# Multi Line string"
   ]
  },
  {
   "cell_type": "markdown",
   "metadata": {},
   "source": [
    "1. Using single triple quotes\n",
    "2. Using double triple quotes\n",
    "\n",
    "Note : The output will also be in Multiple Lines"
   ]
  },
  {
   "cell_type": "code",
   "execution_count": 27,
   "metadata": {},
   "outputs": [
    {
     "name": "stdout",
     "output_type": "stream",
     "text": [
      "Hello, World\n",
      "I am Abid Khokahr\n",
      "I am a Machine Learning Engineer.\n",
      "\n",
      "Hello, World\n",
      "I am Abid Khokhar\n",
      "I am a Date Scientist from Pakistan\n"
     ]
    }
   ],
   "source": [
    "print('''Hello, World\n",
    "I am Abid Khokahr\n",
    "I am a Machine Learning Engineer.''' )\n",
    "\n",
    "print()\n",
    "\n",
    "print(\"\"\"Hello, World\n",
    "I am Abid Khokhar\n",
    "I am a Date Scientist from Pakistan\"\"\")\n",
    "\n",
    "\n"
   ]
  },
  {
   "cell_type": "code",
   "execution_count": null,
   "metadata": {},
   "outputs": [],
   "source": []
  },
  {
   "cell_type": "markdown",
   "metadata": {},
   "source": [
    "3. Using \\ back slash\n",
    "\n",
    "Note: Output will be in single line"
   ]
  },
  {
   "cell_type": "code",
   "execution_count": 34,
   "metadata": {},
   "outputs": [
    {
     "name": "stdout",
     "output_type": "stream",
     "text": [
      "Hello, World I am Abid Khokhar \n",
      "Hello, World I am Abid Khokhar I am a Date Scientist from Pakistan.\n",
      "<class 'str'>\n"
     ]
    }
   ],
   "source": [
    "\n",
    "print(\"Hello, World \\\n",
    "I am Abid Khokhar \")\n",
    "\n",
    "\n",
    "\n",
    "\n",
    "intro = \"Hello, World \" \\\n",
    "        \"Hello, World \" \\\n",
    "        \"I am a Date Scientist from Pakistan.\"\n",
    "\n",
    "print(intro)\n",
    "\n",
    "print(type(intro))"
   ]
  },
  {
   "cell_type": "markdown",
   "metadata": {},
   "source": [
    "4. using parantheses () :\n",
    "\n",
    "Note: Output will be in single line"
   ]
  },
  {
   "cell_type": "code",
   "execution_count": 36,
   "metadata": {},
   "outputs": [
    {
     "name": "stdout",
     "output_type": "stream",
     "text": [
      "Hello, World Hello, World I am a Date Scientist from Pakistan.\n",
      "<class 'str'>\n"
     ]
    }
   ],
   "source": [
    "intro = (\n",
    "    \"Hello, World \"\n",
    "    \"Hello, World \"\n",
    "    \"I am a Date Scientist from Pakistan.\"\n",
    ")\n",
    "\n",
    "print(intro)\n",
    "\n",
    "print(type(intro))"
   ]
  }
 ],
 "metadata": {
  "kernelspec": {
   "display_name": "base",
   "language": "python",
   "name": "python3"
  },
  "language_info": {
   "codemirror_mode": {
    "name": "ipython",
    "version": 3
   },
   "file_extension": ".py",
   "mimetype": "text/x-python",
   "name": "python",
   "nbconvert_exporter": "python",
   "pygments_lexer": "ipython3",
   "version": "3.12.4"
  }
 },
 "nbformat": 4,
 "nbformat_minor": 2
}
